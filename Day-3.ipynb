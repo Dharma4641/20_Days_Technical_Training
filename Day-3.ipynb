{
 "cells": [
  {
   "cell_type": "markdown",
   "id": "f75a55ad",
   "metadata": {},
   "source": [
    "# DAY-3"
   ]
  },
  {
   "cell_type": "markdown",
   "id": "a95e3420",
   "metadata": {},
   "source": [
    "# BIT MANIPULATIONS"
   ]
  },
  {
   "cell_type": "code",
   "execution_count": 1,
   "id": "738142fe",
   "metadata": {},
   "outputs": [
    {
     "name": "stdout",
     "output_type": "stream",
     "text": [
      "8.666666666666668\n"
     ]
    }
   ],
   "source": [
    "print(10*2/3+3-1%2)"
   ]
  },
  {
   "cell_type": "code",
   "execution_count": 2,
   "id": "ffa4f169",
   "metadata": {},
   "outputs": [
    {
     "name": "stdout",
     "output_type": "stream",
     "text": [
      "1\n"
     ]
    }
   ],
   "source": [
    "print(1%2)"
   ]
  },
  {
   "cell_type": "code",
   "execution_count": 3,
   "id": "cb4e9e7d",
   "metadata": {},
   "outputs": [
    {
     "name": "stdout",
     "output_type": "stream",
     "text": [
      "1\n"
     ]
    }
   ],
   "source": [
    "print(7+2&4+3&9)"
   ]
  },
  {
   "cell_type": "code",
   "execution_count": 4,
   "id": "eaadb08d",
   "metadata": {},
   "outputs": [
    {
     "name": "stdout",
     "output_type": "stream",
     "text": [
      "10\n"
     ]
    }
   ],
   "source": [
    "print(10|3&4)"
   ]
  },
  {
   "cell_type": "code",
   "execution_count": 5,
   "id": "cc8d11d8",
   "metadata": {},
   "outputs": [
    {
     "name": "stdout",
     "output_type": "stream",
     "text": [
      "-3\n"
     ]
    }
   ],
   "source": [
    "print(~2)"
   ]
  },
  {
   "cell_type": "code",
   "execution_count": 6,
   "id": "c7b806fc",
   "metadata": {},
   "outputs": [
    {
     "name": "stdout",
     "output_type": "stream",
     "text": [
      "7\n"
     ]
    }
   ],
   "source": [
    "print(6|3&9+6)"
   ]
  },
  {
   "cell_type": "code",
   "execution_count": 7,
   "id": "1be8d3a1",
   "metadata": {},
   "outputs": [
    {
     "name": "stdout",
     "output_type": "stream",
     "text": [
      "2\n"
     ]
    }
   ],
   "source": [
    "print(~9+4&6)"
   ]
  },
  {
   "cell_type": "code",
   "execution_count": 8,
   "id": "56a36c53",
   "metadata": {},
   "outputs": [
    {
     "data": {
      "text/plain": [
       "0"
      ]
     },
     "execution_count": 8,
     "metadata": {},
     "output_type": "execute_result"
    }
   ],
   "source": [
    "5^5"
   ]
  },
  {
   "cell_type": "code",
   "execution_count": 9,
   "id": "f82ea90c",
   "metadata": {},
   "outputs": [
    {
     "data": {
      "text/plain": [
       "0"
      ]
     },
     "execution_count": 9,
     "metadata": {},
     "output_type": "execute_result"
    }
   ],
   "source": [
    "1^2^3"
   ]
  },
  {
   "cell_type": "code",
   "execution_count": 10,
   "id": "4ce71c37",
   "metadata": {},
   "outputs": [
    {
     "data": {
      "text/plain": [
       "2560"
      ]
     },
     "execution_count": 10,
     "metadata": {},
     "output_type": "execute_result"
    }
   ],
   "source": [
    "10<<8"
   ]
  },
  {
   "cell_type": "code",
   "execution_count": 11,
   "id": "1b41d61a",
   "metadata": {},
   "outputs": [
    {
     "name": "stdout",
     "output_type": "stream",
     "text": [
      "3 1 -5 2 0\n",
      "4\n"
     ]
    }
   ],
   "source": [
    "#smallest missing positive integer\n",
    "my_array=list(map(int,input().split(\" \")))\n",
    "flag=0\n",
    "for i in range(max(my_array)):\n",
    "    if i not in my_array:\n",
    "        print(i)\n",
    "        flag=flag+1\n",
    "if flag==0:\n",
    "    print(max(my_array)+1)"
   ]
  },
  {
   "cell_type": "code",
   "execution_count": 12,
   "id": "89949463",
   "metadata": {},
   "outputs": [
    {
     "name": "stdout",
     "output_type": "stream",
     "text": [
      "1 2 3 2 4 3 4\n",
      "1\n"
     ]
    }
   ],
   "source": [
    "#finding out singly occured value\n",
    "def single(arr,n):\n",
    "    res=arr[0]\n",
    "    for i in range(1,n):\n",
    "        res=res ^ arr[i] \n",
    "    return res\n",
    "arr=list(map(int,input().split(\" \")))\n",
    "print(single(arr,len(arr)))"
   ]
  },
  {
   "cell_type": "code",
   "execution_count": 13,
   "id": "a90275d8",
   "metadata": {},
   "outputs": [
    {
     "name": "stdout",
     "output_type": "stream",
     "text": [
      "300 100\n"
     ]
    }
   ],
   "source": [
    "#swap 2 num using XOR\n",
    "a=100\n",
    "b=300\n",
    "a=a^b\n",
    "b=a^b\n",
    "a=a^b\n",
    "print(a,b)"
   ]
  },
  {
   "cell_type": "code",
   "execution_count": 14,
   "id": "9c82cde9",
   "metadata": {},
   "outputs": [
    {
     "name": "stdout",
     "output_type": "stream",
     "text": [
      "enter n value:10\n",
      "enter the kth bit4\n",
      "it is set bit\n"
     ]
    }
   ],
   "source": [
    "#check set bit or not\n",
    "n=int(input(\"enter n value:\"))\n",
    "k=int(input(\"enter the kth bit\"))\n",
    "if (n&(1<<k-1))==0:\n",
    "    print(\"it is not set bit\")\n",
    "else:\n",
    "    print(\"it is set bit\")"
   ]
  },
  {
   "cell_type": "code",
   "execution_count": 15,
   "id": "b13112e5",
   "metadata": {},
   "outputs": [
    {
     "name": "stdout",
     "output_type": "stream",
     "text": [
      "enter the number to perform xor5\n"
     ]
    },
    {
     "data": {
      "text/plain": [
       "1"
      ]
     },
     "execution_count": 15,
     "metadata": {},
     "output_type": "execute_result"
    }
   ],
   "source": [
    "#performing xor from given number to zero\n",
    "def xor(n):\n",
    "    if n==0:\n",
    "        return 0\n",
    "    return n^xor(n-1)\n",
    "xor(int(input(\"enter the number to perform xor\")))"
   ]
  },
  {
   "cell_type": "code",
   "execution_count": 16,
   "id": "9f79c120",
   "metadata": {},
   "outputs": [
    {
     "name": "stdout",
     "output_type": "stream",
     "text": [
      "0\n"
     ]
    }
   ],
   "source": [
    "#performing xor from given number to zero \n",
    "n=7\n",
    "xor=0\n",
    "if n%4==0:\n",
    "    print(n)\n",
    "elif n%4==1:\n",
    "    print(1)\n",
    "elif n%4==2:\n",
    "    print(n+1)\n",
    "elif n%4==3:\n",
    "    print(0)"
   ]
  },
  {
   "cell_type": "code",
   "execution_count": 17,
   "id": "a093391c",
   "metadata": {},
   "outputs": [
    {
     "name": "stdout",
     "output_type": "stream",
     "text": [
      "enter lower range:4\n",
      "enter upper range:9\n",
      "1\n"
     ]
    }
   ],
   "source": [
    "#performing xor by taking range as input\n",
    "def xor(n):\n",
    "    if n==0:\n",
    "        return 0\n",
    "    return n^xor(n-1)\n",
    "l=int(input(\"enter lower range:\"))\n",
    "r=int(input(\"enter upper range:\"))\n",
    "res=xor(r)^xor(l-1)\n",
    "print(res)"
   ]
  },
  {
   "cell_type": "code",
   "execution_count": 18,
   "id": "c3db2ee6",
   "metadata": {},
   "outputs": [
    {
     "name": "stdout",
     "output_type": "stream",
     "text": [
      "odd\n"
     ]
    }
   ],
   "source": [
    "#determing given number without using modulus(by using bitwise and)\n",
    "n=13\n",
    "if(n&1==0):\n",
    "    print(\"even\")\n",
    "else:\n",
    "    print(\"odd\")"
   ]
  },
  {
   "cell_type": "code",
   "execution_count": 20,
   "id": "1407f826",
   "metadata": {},
   "outputs": [
    {
     "name": "stdout",
     "output_type": "stream",
     "text": [
      "enter the exam3\n",
      "2\n"
     ]
    }
   ],
   "source": [
    "#finding the element in fibonacci series by taking position as input\n",
    "n=int(input(\"enter the position\"))\n",
    "n1=0\n",
    "n2=1\n",
    "if n<0:\n",
    "    print(\"not possible\")\n",
    "else:\n",
    "    for i in range(0,n-1):\n",
    "        n3=n1+n2\n",
    "        n1=n2\n",
    "        n2=n3\n",
    "    print(n2)"
   ]
  }
 ],
 "metadata": {
  "kernelspec": {
   "display_name": "Python 3 (ipykernel)",
   "language": "python",
   "name": "python3"
  },
  "language_info": {
   "codemirror_mode": {
    "name": "ipython",
    "version": 3
   },
   "file_extension": ".py",
   "mimetype": "text/x-python",
   "name": "python",
   "nbconvert_exporter": "python",
   "pygments_lexer": "ipython3",
   "version": "3.11.3"
  }
 },
 "nbformat": 4,
 "nbformat_minor": 5
}
