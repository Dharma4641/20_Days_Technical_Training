{
 "cells": [
  {
   "cell_type": "markdown",
   "id": "b6a5ed7b",
   "metadata": {},
   "source": [
    "# DAY-1\n"
   ]
  },
  {
   "cell_type": "code",
   "execution_count": 1,
   "id": "cc098ad6",
   "metadata": {},
   "outputs": [
    {
     "name": "stdout",
     "output_type": "stream",
     "text": [
      "enter amount100000\n",
      "95400\n"
     ]
    }
   ],
   "source": [
    "#finding simple interest after manipulations\n",
    "def interest(p,t):\n",
    "    return ((p*t)/100)\n",
    "p=int(input(\"enter amount\"))\n",
    "int1=interest(p,4)\n",
    "p=p-25000\n",
    "int2=interest(p,4)\n",
    "p=p+10000\n",
    "int3=interest(p,4)\n",
    "print(int(p+int1+int2+int3))"
   ]
  },
  {
   "cell_type": "code",
   "execution_count": 2,
   "id": "2d912d19",
   "metadata": {},
   "outputs": [
    {
     "name": "stdout",
     "output_type": "stream",
     "text": [
      "140706707052552\n",
      "140706707052872\n"
     ]
    }
   ],
   "source": [
    "#memory location of same variable\n",
    "a=40\n",
    "print(id(a))\n",
    "a=50\n",
    "print(id(a))"
   ]
  },
  {
   "cell_type": "code",
   "execution_count": 3,
   "id": "15e99ac5",
   "metadata": {},
   "outputs": [
    {
     "name": "stdout",
     "output_type": "stream",
     "text": [
      "enter number:143\n",
      "8\n"
     ]
    }
   ],
   "source": [
    "#sum of digits of a number using while loop\n",
    "n=int(input(\"enter number:\"))\n",
    "sum=0\n",
    "while(n>0):\n",
    "    rem=n%10\n",
    "    sum=sum+rem\n",
    "    n=n//10\n",
    "print(sum)"
   ]
  },
  {
   "cell_type": "code",
   "execution_count": 4,
   "id": "3e61fa17",
   "metadata": {},
   "outputs": [
    {
     "name": "stdout",
     "output_type": "stream",
     "text": [
      "enter number:436\n",
      "13\n"
     ]
    }
   ],
   "source": [
    "#sum of digits of a number using for loop\n",
    "n=int(input(\"enter number:\"))\n",
    "sum=0\n",
    "for i in range(len(str(n))):\n",
    "    rem=n%10\n",
    "    sum=sum+rem\n",
    "    n=n//10\n",
    "print(sum)"
   ]
  },
  {
   "cell_type": "code",
   "execution_count": 5,
   "id": "a1b515f7",
   "metadata": {},
   "outputs": [
    {
     "name": "stdout",
     "output_type": "stream",
     "text": [
      "enter num:987\n",
      "24\n"
     ]
    }
   ],
   "source": [
    "#sum of digits of a number using strings\n",
    "n=input(\"enter num:\")\n",
    "print(int(n[0])+int(n[1])+int(n[2]))"
   ]
  }
 ],
 "metadata": {
  "kernelspec": {
   "display_name": "Python 3 (ipykernel)",
   "language": "python",
   "name": "python3"
  },
  "language_info": {
   "codemirror_mode": {
    "name": "ipython",
    "version": 3
   },
   "file_extension": ".py",
   "mimetype": "text/x-python",
   "name": "python",
   "nbconvert_exporter": "python",
   "pygments_lexer": "ipython3",
   "version": "3.11.3"
  }
 },
 "nbformat": 4,
 "nbformat_minor": 5
}
