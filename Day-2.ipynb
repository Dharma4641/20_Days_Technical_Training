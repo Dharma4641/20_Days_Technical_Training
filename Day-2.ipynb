{
 "cells": [
  {
   "cell_type": "markdown",
   "id": "bb303c3c",
   "metadata": {},
   "source": [
    "# DAY-2"
   ]
  },
  {
   "cell_type": "code",
   "execution_count": 1,
   "id": "b2cc0ff0",
   "metadata": {},
   "outputs": [
    {
     "name": "stdout",
     "output_type": "stream",
     "text": [
      "enter range:10 40\n",
      "enter size:4\n",
      "enter the elements only in the range: 10 40\n",
      "12\n",
      "14\n",
      "16\n",
      "32\n",
      "[12, 14, 16, 32]\n",
      "even no's: [12, 14, 16, 32]\n",
      "powers of 2 are: [16, 32]\n"
     ]
    }
   ],
   "source": [
    "#taking range and elements as input and finding even numbers and powers of 2\n",
    "ran=list(map(int,input(\"enter range:\").split(\" \")))\n",
    "n=int(input(\"enter size:\"))\n",
    "a=[]\n",
    "e=[]\n",
    "p=[]\n",
    "print(\"enter the elements only in the range:\",ran[0],ran[1])\n",
    "for i in range(n):\n",
    "    x=int(input())\n",
    "    if x>ran[0] and ran[1]>x:\n",
    "        a.append(x)\n",
    "    else:\n",
    "        print(\"invalid\")\n",
    "print(a)\n",
    "for i in a:\n",
    "    if i%2==0:\n",
    "        e.append(i)\n",
    "print(\"even no's:\",e)\n",
    "for i in a:\n",
    "    for j in range(0,max(a)):\n",
    "        if 2**j==i:\n",
    "            p.append(i)\n",
    "print(\"powers of 2 are:\",p)"
   ]
  },
  {
   "cell_type": "code",
   "execution_count": 2,
   "id": "92c164e9",
   "metadata": {},
   "outputs": [
    {
     "name": "stdout",
     "output_type": "stream",
     "text": [
      "enter the elements:1 3 6 8 9\n",
      "27\n"
     ]
    }
   ],
   "source": [
    "#sum of elements in a list\n",
    "def sum_fun(a):\n",
    "    sum=0\n",
    "    for i in a:\n",
    "        sum=sum+i\n",
    "    return sum\n",
    "a=list(map(int,input(\"enter the elements:\").split(\" \")))\n",
    "print(sum_fun(a))"
   ]
  },
  {
   "cell_type": "code",
   "execution_count": 3,
   "id": "8d26d04e",
   "metadata": {},
   "outputs": [
    {
     "name": "stdout",
     "output_type": "stream",
     "text": [
      "enter the elements by giving space:1 2 65 87 69\n",
      "enter the element to search:69\n",
      "True\n"
     ]
    }
   ],
   "source": [
    "#Linear Search\n",
    "def lin_search(a,n):\n",
    "    for i in a:\n",
    "         if i==n:\n",
    "            return True\n",
    "    return False\n",
    "a=list(map(int,input(\"enter the elements by giving space:\").split(\" \")))\n",
    "n=int(input(\"enter the element to search:\"))\n",
    "print(lin_search(a,n))"
   ]
  },
  {
   "cell_type": "code",
   "execution_count": 4,
   "id": "95a92e31",
   "metadata": {},
   "outputs": [
    {
     "name": "stdout",
     "output_type": "stream",
     "text": [
      "[[0, 1, 2, 3, 4, 5, 6, 7, 8, 9], [0, 1, 2, 3, 4, 5, 6, 7, 8, 9], [0, 1, 2, 3, 4, 5, 6, 7, 8, 9], [0, 1, 2, 3, 4, 5, 6, 7, 8, 9], [0, 1, 2, 3, 4, 5, 6, 7, 8, 9], [0, 1, 2, 3, 4, 5, 6, 7, 8, 9], [0, 1, 2, 3, 4, 5, 6, 7, 8, 9], [0, 1, 2, 3, 4, 5, 6, 7, 8, 9], [0, 1, 2, 3, 4, 5, 6, 7, 8, 9], [0, 1, 2, 3, 4, 5, 6, 7, 8, 9]]\n"
     ]
    }
   ],
   "source": [
    "#generating a 10 list of 10 numbers\n",
    "def gen(n):\n",
    "    t_l=[]\n",
    "    for num in range(n):\n",
    "        row=[]\n",
    "        for i in range(n):\n",
    "            row.append(i)\n",
    "        t_l.append(row)\n",
    "    return t_l\n",
    "print(gen(10))"
   ]
  },
  {
   "cell_type": "code",
   "execution_count": 5,
   "id": "8729a95e",
   "metadata": {},
   "outputs": [
    {
     "name": "stdout",
     "output_type": "stream",
     "text": [
      "enter the n value to do sum:7\n",
      "28\n"
     ]
    }
   ],
   "source": [
    "#sum of numbers from given number to zero\n",
    "def sum_a(n):\n",
    "    if n<=0:\n",
    "        return 0\n",
    "    return n+sum_a(n-1)\n",
    "print(sum_a(int(input(\"enter the n value to do sum:\"))))"
   ]
  },
  {
   "cell_type": "code",
   "execution_count": 6,
   "id": "c52f4461",
   "metadata": {},
   "outputs": [
    {
     "name": "stdout",
     "output_type": "stream",
     "text": [
      "enter the number to perform factorial5\n",
      "120\n"
     ]
    }
   ],
   "source": [
    "#finding factorial\n",
    "def fact(n):\n",
    "    if n==0:\n",
    "        return 1\n",
    "    return n*fact(n-1)\n",
    "print(fact(int(input(\"enter the number to perform factorial\"))))"
   ]
  },
  {
   "cell_type": "code",
   "execution_count": 7,
   "id": "19daeb39",
   "metadata": {},
   "outputs": [
    {
     "name": "stdout",
     "output_type": "stream",
     "text": [
      "enter value:8\n",
      "[0, 1, 1, 2, 3, 5, 8, 13]\n"
     ]
    }
   ],
   "source": [
    "#fibonacci series\n",
    "def fibonacci_recursive(n):\n",
    "    if n <= 0:\n",
    "        return []\n",
    "    elif n == 1:\n",
    "        return [0]\n",
    "    elif n == 2:\n",
    "        return [0, 1]\n",
    "    else:\n",
    "        fib = fibonacci_recursive(n - 1)\n",
    "        fib.append(fib[-1] + fib[-2])\n",
    "        return fib\n",
    "result = fibonacci_recursive(int(input(\"enter value:\")))\n",
    "print(result)\n"
   ]
  }
 ],
 "metadata": {
  "kernelspec": {
   "display_name": "Python 3 (ipykernel)",
   "language": "python",
   "name": "python3"
  },
  "language_info": {
   "codemirror_mode": {
    "name": "ipython",
    "version": 3
   },
   "file_extension": ".py",
   "mimetype": "text/x-python",
   "name": "python",
   "nbconvert_exporter": "python",
   "pygments_lexer": "ipython3",
   "version": "3.11.3"
  }
 },
 "nbformat": 4,
 "nbformat_minor": 5
}
